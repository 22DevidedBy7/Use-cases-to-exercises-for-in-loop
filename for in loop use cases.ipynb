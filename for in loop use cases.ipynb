{
 "cells": [
  {
   "cell_type": "markdown",
   "metadata": {},
   "source": [
    "The given \"temp_in_fahrenheit\" indicates weather temperature values hourly in a day."
   ]
  },
  {
   "cell_type": "markdown",
   "metadata": {},
   "source": [
    "Use Case1: User wants to just see each temperature value in Celsius without modifying \"temp_in_fahrenheit\"."
   ]
  },
  {
   "cell_type": "code",
   "execution_count": 55,
   "metadata": {},
   "outputs": [
    {
     "name": "stdout",
     "output_type": "stream",
     "text": [
      "19\n",
      "18\n",
      "18\n",
      "18\n",
      "18\n",
      "18\n",
      "17\n",
      "18\n",
      "18\n",
      "19\n",
      "21\n",
      "22\n",
      "21\n",
      "22\n",
      "22\n",
      "23\n",
      "23\n",
      "23\n",
      "23\n",
      "22\n",
      "22\n",
      "22\n",
      "21\n",
      "20\n",
      "20\n",
      "19\n"
     ]
    }
   ],
   "source": [
    "temp_in_fahrenheit = [67,66,65,65,65,65,64,65,66,67,70,72,70,72,73,74,75,75,74,73,73,72,70,69,68,67]\n",
    "\n",
    "for temp in temp_in_fahrenheit:              #iterates each temp value\n",
    "    print(int((temp-32)*5/9))                #prints each temp value in celcius. It doesn´t modify \"temp_in_fahrenheit\"."
   ]
  },
  {
   "cell_type": "markdown",
   "metadata": {},
   "source": [
    "Use case2: User wants to convert each temperature to Celsius and store them in the new list without modifying \"temp_in_fahrenheit\"."
   ]
  },
  {
   "cell_type": "code",
   "execution_count": 57,
   "metadata": {},
   "outputs": [
    {
     "name": "stdout",
     "output_type": "stream",
     "text": [
      "Temperatures in F:  [67, 66, 65, 65, 65, 65, 64, 65, 66, 67, 70, 72, 70, 72, 73, 74, 75, 75, 74, 73, 73, 72, 70, 69, 68, 67]\n",
      "Temperatures in C:  [19, 18, 18, 18, 18, 18, 17, 18, 18, 19, 21, 22, 21, 22, 22, 23, 23, 23, 23, 22, 22, 22, 21, 20, 20, 19]\n"
     ]
    }
   ],
   "source": [
    "temp_in_fahrenheit = [67,66,65,65,65,65,64,65,66,67,70,72,70,72,73,74,75,75,74,73,73,72,70,69,68,67]\n",
    "temp_in_celcius = []\n",
    "\n",
    "for temp in temp_in_fahrenheit:                        #iterates each temp value\n",
    "    temp_in_celcius.append(int((temp-32)*5/9))      #appends each temperature in Celsius to \"temp_in_celcius\".\n",
    "\n",
    "print(\"Temperatures in F: \", temp_in_fahrenheit)\n",
    "print(\"Temperatures in C: \", temp_in_celcius)"
   ]
  },
  {
   "cell_type": "markdown",
   "metadata": {},
   "source": [
    "Use case3: User wants to update the list \"temp_in_fahrenheit\" for the next day. Let´s make it pretty simple and assume that each temp value will incrise 1 degree for the next day."
   ]
  },
  {
   "cell_type": "code",
   "execution_count": 62,
   "metadata": {},
   "outputs": [
    {
     "name": "stdout",
     "output_type": "stream",
     "text": [
      "Temp yesterday:  [67, 66, 65, 65, 65, 65, 64, 65, 66, 67, 70, 72, 70, 72, 73, 74, 75, 75, 74, 73, 73, 72, 70, 69, 68, 67]\n",
      "Temp today    :  [68, 67, 66, 66, 66, 66, 65, 66, 67, 68, 71, 73, 71, 73, 74, 75, 76, 76, 75, 74, 74, 73, 71, 70, 69, 68]\n"
     ]
    }
   ],
   "source": [
    "temp_in_fahrenheit = [67,66,65,65,65,65,64,65,66,67,70,72,70,72,73,74,75,75,74,73,73,72,70,69,68,67]\n",
    "print(\"Temp yesterday: \", temp_in_fahrenheit) \n",
    "\n",
    "for index in range(len(temp_in_fahrenheit)):  #iterates index from 0 to 25 (=len(temp_in_fahrenheit)-1)\n",
    "    temp_in_fahrenheit[index] += 1            #temp_in_fahrenheit is updated.\n",
    "    \n",
    "print(\"Temp today    : \", temp_in_fahrenheit) # modified \"temp_in_fahrenheit\""
   ]
  },
  {
   "cell_type": "markdown",
   "metadata": {},
   "source": [
    "Use case4: User wants to update the list \"temp_in_fahrenheit\" for the next day and convert each temperature to Celsius and store them in the new list. Besides user wants to see the difference of the temperature yesterday and today."
   ]
  },
  {
   "cell_type": "code",
   "execution_count": 66,
   "metadata": {},
   "outputs": [
    {
     "name": "stdout",
     "output_type": "stream",
     "text": [
      "Temp yesterday:  [67, 66, 65, 65, 65, 65, 64, 65, 66, 67, 70, 72, 70, 72, 73, 74, 75, 75, 74, 73, 73, 72, 70, 69, 68, 67]\n",
      "Temp today    :  [68, 67, 66, 66, 66, 66, 65, 66, 67, 68, 71, 73, 71, 73, 74, 75, 76, 76, 75, 74, 74, 73, 71, 70, 69, 68]\n",
      "Temp in C     :  [20, 19, 18, 18, 18, 18, 18, 18, 19, 20, 21, 22, 21, 22, 23, 23, 24, 24, 23, 23, 23, 22, 21, 21, 20, 20]\n",
      "Diff temp     :  [1, 1, 1, 1, 1, 1, 1, 1, 1, 1, 1, 1, 1, 1, 1, 1, 1, 1, 1, 1, 1, 1, 1, 1, 1, 1]\n"
     ]
    }
   ],
   "source": [
    "temp_in_fahrenheit = [67,66,65,65,65,65,64,65,66,67,70,72,70,72,73,74,75,75,74,73,73,72,70,69,68,67]\n",
    "print(\"Temp yesterday: \", temp_in_fahrenheit) \n",
    "\n",
    "temp_in_celcius = []\n",
    "diff_yesterday_today = []  #The difference of the temperature yesterday and today\n",
    "\n",
    "for index, temp in enumerate(temp_in_fahrenheit):  \n",
    "    temp_in_fahrenheit[index] += 1            #temp_in_fahrenheit is updated.\n",
    "    temp_in_celcius.append(int((temp_in_fahrenheit[index]-32)*5/9)) \n",
    "    diff_yesterday_today.append(temp_in_fahrenheit[index]-temp)\n",
    "    \n",
    "    \n",
    "print(\"Temp today    : \", temp_in_fahrenheit) # modified \"temp_in_fahrenheit\"\n",
    "print(\"Temp in C     : \", temp_in_celcius)\n",
    "print(\"Diff temp     : \",   diff_yesterday_today)"
   ]
  },
  {
   "cell_type": "code",
   "execution_count": null,
   "metadata": {},
   "outputs": [],
   "source": []
  }
 ],
 "metadata": {
  "kernelspec": {
   "display_name": "Python 3",
   "language": "python",
   "name": "python3"
  },
  "language_info": {
   "codemirror_mode": {
    "name": "ipython",
    "version": 3
   },
   "file_extension": ".py",
   "mimetype": "text/x-python",
   "name": "python",
   "nbconvert_exporter": "python",
   "pygments_lexer": "ipython3",
   "version": "3.7.6"
  }
 },
 "nbformat": 4,
 "nbformat_minor": 4
}
